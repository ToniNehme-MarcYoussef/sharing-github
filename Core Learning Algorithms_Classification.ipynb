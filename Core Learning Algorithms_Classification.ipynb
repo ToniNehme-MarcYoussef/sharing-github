{
 "cells": [
  {
   "cell_type": "code",
   "execution_count": 1,
   "id": "d9a9a2c9",
   "metadata": {},
   "outputs": [],
   "source": [
    "from __future__ import absolute_import, division, print_function, unicode_literals\n",
    "\n",
    "\n",
    "import tensorflow as tf\n",
    "\n",
    "import pandas as pd"
   ]
  },
  {
   "cell_type": "code",
   "execution_count": 2,
   "id": "7963a277",
   "metadata": {},
   "outputs": [],
   "source": [
    "CSV_COLUMN_NAMES = ['SepalLength', 'SepalWidth', 'PetalLength', 'PetalWidth', 'Species']\n",
    "SPECIES = ['Setosa', 'Versicolor', 'Virginica']\n",
    "# Lets define some constants to help us later on"
   ]
  },
  {
   "cell_type": "code",
   "execution_count": 3,
   "id": "52d6ba58",
   "metadata": {},
   "outputs": [],
   "source": [
    "train_path = tf.keras.utils.get_file(\n",
    "    \"iris_training.csv\", \"https://storage.googleapis.com/download.tensorflow.org/data/iris_training.csv\")\n",
    "test_path = tf.keras.utils.get_file(\n",
    "    \"iris_test.csv\", \"https://storage.googleapis.com/download.tensorflow.org/data/iris_test.csv\")\n",
    "\n",
    "train = pd.read_csv(train_path, names=CSV_COLUMN_NAMES, header=0)\n",
    "test = pd.read_csv(test_path, names=CSV_COLUMN_NAMES, header=0)\n",
    "# Here we use keras (a module inside of TensorFlow) to grab our datasets and read them into a pandas dataframe"
   ]
  },
  {
   "cell_type": "code",
   "execution_count": 4,
   "id": "3d182ad3",
   "metadata": {},
   "outputs": [
    {
     "data": {
      "text/html": [
       "<div>\n",
       "<style scoped>\n",
       "    .dataframe tbody tr th:only-of-type {\n",
       "        vertical-align: middle;\n",
       "    }\n",
       "\n",
       "    .dataframe tbody tr th {\n",
       "        vertical-align: top;\n",
       "    }\n",
       "\n",
       "    .dataframe thead th {\n",
       "        text-align: right;\n",
       "    }\n",
       "</style>\n",
       "<table border=\"1\" class=\"dataframe\">\n",
       "  <thead>\n",
       "    <tr style=\"text-align: right;\">\n",
       "      <th></th>\n",
       "      <th>SepalLength</th>\n",
       "      <th>SepalWidth</th>\n",
       "      <th>PetalLength</th>\n",
       "      <th>PetalWidth</th>\n",
       "      <th>Species</th>\n",
       "    </tr>\n",
       "  </thead>\n",
       "  <tbody>\n",
       "    <tr>\n",
       "      <th>0</th>\n",
       "      <td>6.4</td>\n",
       "      <td>2.8</td>\n",
       "      <td>5.6</td>\n",
       "      <td>2.2</td>\n",
       "      <td>2</td>\n",
       "    </tr>\n",
       "    <tr>\n",
       "      <th>1</th>\n",
       "      <td>5.0</td>\n",
       "      <td>2.3</td>\n",
       "      <td>3.3</td>\n",
       "      <td>1.0</td>\n",
       "      <td>1</td>\n",
       "    </tr>\n",
       "    <tr>\n",
       "      <th>2</th>\n",
       "      <td>4.9</td>\n",
       "      <td>2.5</td>\n",
       "      <td>4.5</td>\n",
       "      <td>1.7</td>\n",
       "      <td>2</td>\n",
       "    </tr>\n",
       "    <tr>\n",
       "      <th>3</th>\n",
       "      <td>4.9</td>\n",
       "      <td>3.1</td>\n",
       "      <td>1.5</td>\n",
       "      <td>0.1</td>\n",
       "      <td>0</td>\n",
       "    </tr>\n",
       "    <tr>\n",
       "      <th>4</th>\n",
       "      <td>5.7</td>\n",
       "      <td>3.8</td>\n",
       "      <td>1.7</td>\n",
       "      <td>0.3</td>\n",
       "      <td>0</td>\n",
       "    </tr>\n",
       "  </tbody>\n",
       "</table>\n",
       "</div>"
      ],
      "text/plain": [
       "   SepalLength  SepalWidth  PetalLength  PetalWidth  Species\n",
       "0          6.4         2.8          5.6         2.2        2\n",
       "1          5.0         2.3          3.3         1.0        1\n",
       "2          4.9         2.5          4.5         1.7        2\n",
       "3          4.9         3.1          1.5         0.1        0\n",
       "4          5.7         3.8          1.7         0.3        0"
      ]
     },
     "execution_count": 4,
     "metadata": {},
     "output_type": "execute_result"
    }
   ],
   "source": [
    "train.head()"
   ]
  },
  {
   "cell_type": "code",
   "execution_count": 5,
   "id": "1dca9e62",
   "metadata": {},
   "outputs": [
    {
     "data": {
      "text/html": [
       "<div>\n",
       "<style scoped>\n",
       "    .dataframe tbody tr th:only-of-type {\n",
       "        vertical-align: middle;\n",
       "    }\n",
       "\n",
       "    .dataframe tbody tr th {\n",
       "        vertical-align: top;\n",
       "    }\n",
       "\n",
       "    .dataframe thead th {\n",
       "        text-align: right;\n",
       "    }\n",
       "</style>\n",
       "<table border=\"1\" class=\"dataframe\">\n",
       "  <thead>\n",
       "    <tr style=\"text-align: right;\">\n",
       "      <th></th>\n",
       "      <th>SepalLength</th>\n",
       "      <th>SepalWidth</th>\n",
       "      <th>PetalLength</th>\n",
       "      <th>PetalWidth</th>\n",
       "    </tr>\n",
       "  </thead>\n",
       "  <tbody>\n",
       "    <tr>\n",
       "      <th>0</th>\n",
       "      <td>6.4</td>\n",
       "      <td>2.8</td>\n",
       "      <td>5.6</td>\n",
       "      <td>2.2</td>\n",
       "    </tr>\n",
       "    <tr>\n",
       "      <th>1</th>\n",
       "      <td>5.0</td>\n",
       "      <td>2.3</td>\n",
       "      <td>3.3</td>\n",
       "      <td>1.0</td>\n",
       "    </tr>\n",
       "    <tr>\n",
       "      <th>2</th>\n",
       "      <td>4.9</td>\n",
       "      <td>2.5</td>\n",
       "      <td>4.5</td>\n",
       "      <td>1.7</td>\n",
       "    </tr>\n",
       "    <tr>\n",
       "      <th>3</th>\n",
       "      <td>4.9</td>\n",
       "      <td>3.1</td>\n",
       "      <td>1.5</td>\n",
       "      <td>0.1</td>\n",
       "    </tr>\n",
       "    <tr>\n",
       "      <th>4</th>\n",
       "      <td>5.7</td>\n",
       "      <td>3.8</td>\n",
       "      <td>1.7</td>\n",
       "      <td>0.3</td>\n",
       "    </tr>\n",
       "  </tbody>\n",
       "</table>\n",
       "</div>"
      ],
      "text/plain": [
       "   SepalLength  SepalWidth  PetalLength  PetalWidth\n",
       "0          6.4         2.8          5.6         2.2\n",
       "1          5.0         2.3          3.3         1.0\n",
       "2          4.9         2.5          4.5         1.7\n",
       "3          4.9         3.1          1.5         0.1\n",
       "4          5.7         3.8          1.7         0.3"
      ]
     },
     "execution_count": 5,
     "metadata": {},
     "output_type": "execute_result"
    }
   ],
   "source": [
    "train_y = train.pop('Species')\n",
    "test_y = test.pop('Species')\n",
    "train.head() # the species column is now gone"
   ]
  },
  {
   "cell_type": "code",
   "execution_count": 6,
   "id": "205b6e27",
   "metadata": {},
   "outputs": [
    {
     "data": {
      "text/plain": [
       "(120, 4)"
      ]
     },
     "execution_count": 6,
     "metadata": {},
     "output_type": "execute_result"
    }
   ],
   "source": [
    "train.shape  # we have 120 entires with 4 features"
   ]
  },
  {
   "cell_type": "code",
   "execution_count": 7,
   "id": "9799db2b",
   "metadata": {},
   "outputs": [],
   "source": [
    "def input_fn(features, labels, training=True, batch_size=256):\n",
    "    # Convert the inputs to a Dataset.\n",
    "    dataset = tf.data.Dataset.from_tensor_slices((dict(features), labels))\n",
    "\n",
    "    # Shuffle and repeat if you are in training mode.\n",
    "    if training:\n",
    "        dataset = dataset.shuffle(1000).repeat()\n",
    "    \n",
    "    return dataset.batch(batch_size)\n"
   ]
  },
  {
   "cell_type": "code",
   "execution_count": 8,
   "id": "d75b2027",
   "metadata": {},
   "outputs": [
    {
     "name": "stdout",
     "output_type": "stream",
     "text": [
      "[NumericColumn(key='SepalLength', shape=(1,), default_value=None, dtype=tf.float32, normalizer_fn=None), NumericColumn(key='SepalWidth', shape=(1,), default_value=None, dtype=tf.float32, normalizer_fn=None), NumericColumn(key='PetalLength', shape=(1,), default_value=None, dtype=tf.float32, normalizer_fn=None), NumericColumn(key='PetalWidth', shape=(1,), default_value=None, dtype=tf.float32, normalizer_fn=None)]\n"
     ]
    }
   ],
   "source": [
    "# Feature columns describe how to use the input.\n",
    "my_feature_columns = []\n",
    "for key in train.keys():\n",
    "    my_feature_columns.append(tf.feature_column.numeric_column(key=key))\n",
    "print(my_feature_columns)"
   ]
  },
  {
   "cell_type": "code",
   "execution_count": 9,
   "id": "9caa8d22",
   "metadata": {},
   "outputs": [
    {
     "name": "stdout",
     "output_type": "stream",
     "text": [
      "INFO:tensorflow:Using default config.\n",
      "WARNING:tensorflow:Using temporary folder as model directory: C:\\Users\\TONINE~1\\AppData\\Local\\Temp\\tmpk_h_knyh\n",
      "INFO:tensorflow:Using config: {'_model_dir': 'C:\\\\Users\\\\TONINE~1\\\\AppData\\\\Local\\\\Temp\\\\tmpk_h_knyh', '_tf_random_seed': None, '_save_summary_steps': 100, '_save_checkpoints_steps': None, '_save_checkpoints_secs': 600, '_session_config': allow_soft_placement: true\n",
      "graph_options {\n",
      "  rewrite_options {\n",
      "    meta_optimizer_iterations: ONE\n",
      "  }\n",
      "}\n",
      ", '_keep_checkpoint_max': 5, '_keep_checkpoint_every_n_hours': 10000, '_log_step_count_steps': 100, '_train_distribute': None, '_device_fn': None, '_protocol': None, '_eval_distribute': None, '_experimental_distribute': None, '_experimental_max_worker_delay_secs': None, '_session_creation_timeout_secs': 7200, '_service': None, '_cluster_spec': ClusterSpec({}), '_task_type': 'worker', '_task_id': 0, '_global_id_in_cluster': 0, '_master': '', '_evaluation_master': '', '_is_chief': True, '_num_ps_replicas': 0, '_num_worker_replicas': 1}\n"
     ]
    }
   ],
   "source": [
    "# Build a DNN with 2 hidden layers with 30 and 10 hidden nodes each.\n",
    "classifier = tf.estimator.DNNClassifier(\n",
    "    feature_columns=my_feature_columns,\n",
    "    # Two hidden layers of 30 and 10 nodes respectively.\n",
    "    hidden_units=[30, 10],\n",
    "    # The model must choose between 3 classes.\n",
    "    n_classes=3)"
   ]
  },
  {
   "cell_type": "code",
   "execution_count": 10,
   "id": "835a7f93",
   "metadata": {},
   "outputs": [
    {
     "name": "stdout",
     "output_type": "stream",
     "text": [
      "WARNING:tensorflow:From C:\\Users\\Toni Nehme\\.conda\\envs\\tf\\lib\\site-packages\\tensorflow\\python\\training\\training_util.py:235: Variable.initialized_value (from tensorflow.python.ops.variables) is deprecated and will be removed in a future version.\n",
      "Instructions for updating:\n",
      "Use Variable.read_value. Variables in 2.X are initialized automatically both in eager and graph (inside tf.defun) contexts.\n",
      "INFO:tensorflow:Calling model_fn.\n",
      "WARNING:tensorflow:Layer dnn is casting an input tensor from dtype float64 to the layer's dtype of float32, which is new behavior in TensorFlow 2.  The layer has dtype float32 because its dtype defaults to floatx.\n",
      "\n",
      "If you intended to run this layer in float32, you can safely ignore this warning. If in doubt, this warning is likely only an issue if you are porting a TensorFlow 1.X model to TensorFlow 2.\n",
      "\n",
      "To change all layers to have dtype float64 by default, call `tf.keras.backend.set_floatx('float64')`. To change just this layer, pass dtype='float64' to the layer constructor. If you are the author of this layer, you can disable autocasting by passing autocast=False to the base Layer constructor.\n",
      "\n",
      "WARNING:tensorflow:AutoGraph could not transform <bound method _DNNModelV2.call of <tensorflow_estimator.python.estimator.canned.dnn._DNNModelV2 object at 0x000001B0CD14E970>> and will run it as-is.\n",
      "Please report this to the TensorFlow team. When filing the bug, set the verbosity to 10 (on Linux, `export AUTOGRAPH_VERBOSITY=10`) and attach the full output.\n",
      "Cause: module 'gast' has no attribute 'Index'\n",
      "To silence this warning, decorate the function with @tf.autograph.experimental.do_not_convert\n",
      "WARNING: AutoGraph could not transform <bound method _DNNModelV2.call of <tensorflow_estimator.python.estimator.canned.dnn._DNNModelV2 object at 0x000001B0CD14E970>> and will run it as-is.\n",
      "Please report this to the TensorFlow team. When filing the bug, set the verbosity to 10 (on Linux, `export AUTOGRAPH_VERBOSITY=10`) and attach the full output.\n",
      "Cause: module 'gast' has no attribute 'Index'\n",
      "To silence this warning, decorate the function with @tf.autograph.experimental.do_not_convert\n",
      "WARNING:tensorflow:From C:\\Users\\Toni Nehme\\.conda\\envs\\tf\\lib\\site-packages\\tensorflow\\python\\keras\\optimizer_v2\\adagrad.py:82: calling Constant.__init__ (from tensorflow.python.ops.init_ops) with dtype is deprecated and will be removed in a future version.\n",
      "Instructions for updating:\n",
      "Call initializer instance with the dtype argument instead of passing it to the constructor\n",
      "INFO:tensorflow:Done calling model_fn.\n",
      "INFO:tensorflow:Create CheckpointSaverHook.\n",
      "INFO:tensorflow:Graph was finalized.\n",
      "INFO:tensorflow:Running local_init_op.\n",
      "INFO:tensorflow:Done running local_init_op.\n",
      "INFO:tensorflow:Calling checkpoint listeners before saving checkpoint 0...\n",
      "INFO:tensorflow:Saving checkpoints for 0 into C:\\Users\\TONINE~1\\AppData\\Local\\Temp\\tmpk_h_knyh\\model.ckpt.\n",
      "INFO:tensorflow:Calling checkpoint listeners after saving checkpoint 0...\n",
      "INFO:tensorflow:loss = 1.7668333, step = 0\n",
      "INFO:tensorflow:global_step/sec: 374.586\n",
      "INFO:tensorflow:loss = 1.0577354, step = 100 (0.273 sec)\n",
      "INFO:tensorflow:global_step/sec: 553.965\n",
      "INFO:tensorflow:loss = 0.89190847, step = 200 (0.175 sec)\n",
      "INFO:tensorflow:global_step/sec: 582.949\n",
      "INFO:tensorflow:loss = 0.83050823, step = 300 (0.175 sec)\n",
      "INFO:tensorflow:global_step/sec: 572.913\n",
      "INFO:tensorflow:loss = 0.7836939, step = 400 (0.174 sec)\n",
      "INFO:tensorflow:global_step/sec: 542.024\n",
      "INFO:tensorflow:loss = 0.7568366, step = 500 (0.185 sec)\n",
      "INFO:tensorflow:global_step/sec: 572.955\n",
      "INFO:tensorflow:loss = 0.73115814, step = 600 (0.176 sec)\n",
      "INFO:tensorflow:global_step/sec: 582.947\n",
      "INFO:tensorflow:loss = 0.7094474, step = 700 (0.171 sec)\n",
      "INFO:tensorflow:global_step/sec: 565.963\n",
      "INFO:tensorflow:loss = 0.68541366, step = 800 (0.175 sec)\n",
      "INFO:tensorflow:global_step/sec: 596.83\n",
      "INFO:tensorflow:loss = 0.6668912, step = 900 (0.173 sec)\n",
      "INFO:tensorflow:global_step/sec: 550.919\n",
      "INFO:tensorflow:loss = 0.6523366, step = 1000 (0.179 sec)\n",
      "INFO:tensorflow:global_step/sec: 563.289\n",
      "INFO:tensorflow:loss = 0.6232253, step = 1100 (0.176 sec)\n",
      "INFO:tensorflow:global_step/sec: 593.311\n",
      "INFO:tensorflow:loss = 0.61488235, step = 1200 (0.169 sec)\n",
      "INFO:tensorflow:global_step/sec: 593.296\n",
      "INFO:tensorflow:loss = 0.5908097, step = 1300 (0.169 sec)\n",
      "INFO:tensorflow:global_step/sec: 563.3\n",
      "INFO:tensorflow:loss = 0.5915185, step = 1400 (0.179 sec)\n",
      "INFO:tensorflow:global_step/sec: 582.951\n",
      "INFO:tensorflow:loss = 0.5715669, step = 1500 (0.173 sec)\n",
      "INFO:tensorflow:global_step/sec: 588.683\n",
      "INFO:tensorflow:loss = 0.56031954, step = 1600 (0.169 sec)\n",
      "INFO:tensorflow:global_step/sec: 582.871\n",
      "INFO:tensorflow:loss = 0.5532135, step = 1700 (0.175 sec)\n",
      "INFO:tensorflow:global_step/sec: 578.739\n",
      "INFO:tensorflow:loss = 0.5369598, step = 1800 (0.169 sec)\n",
      "INFO:tensorflow:global_step/sec: 598.105\n",
      "INFO:tensorflow:loss = 0.5239439, step = 1900 (0.169 sec)\n",
      "INFO:tensorflow:global_step/sec: 574.24\n",
      "INFO:tensorflow:loss = 0.5267271, step = 2000 (0.175 sec)\n",
      "INFO:tensorflow:global_step/sec: 586.356\n",
      "INFO:tensorflow:loss = 0.50806475, step = 2100 (0.170 sec)\n",
      "INFO:tensorflow:global_step/sec: 589.794\n",
      "INFO:tensorflow:loss = 0.49627173, step = 2200 (0.170 sec)\n",
      "INFO:tensorflow:global_step/sec: 572.973\n",
      "INFO:tensorflow:loss = 0.47825497, step = 2300 (0.174 sec)\n",
      "INFO:tensorflow:global_step/sec: 589.811\n",
      "INFO:tensorflow:loss = 0.47662646, step = 2400 (0.172 sec)\n",
      "INFO:tensorflow:global_step/sec: 572.954\n",
      "INFO:tensorflow:loss = 0.48021042, step = 2500 (0.173 sec)\n",
      "INFO:tensorflow:global_step/sec: 593.298\n",
      "INFO:tensorflow:loss = 0.45989162, step = 2600 (0.169 sec)\n",
      "INFO:tensorflow:global_step/sec: 572.018\n",
      "INFO:tensorflow:loss = 0.45237336, step = 2700 (0.176 sec)\n",
      "INFO:tensorflow:global_step/sec: 600.403\n",
      "INFO:tensorflow:loss = 0.44567248, step = 2800 (0.167 sec)\n",
      "INFO:tensorflow:global_step/sec: 568.723\n",
      "INFO:tensorflow:loss = 0.44823918, step = 2900 (0.174 sec)\n",
      "INFO:tensorflow:global_step/sec: 593.296\n",
      "INFO:tensorflow:loss = 0.43621835, step = 3000 (0.171 sec)\n",
      "INFO:tensorflow:global_step/sec: 586.359\n",
      "INFO:tensorflow:loss = 0.42804453, step = 3100 (0.173 sec)\n",
      "INFO:tensorflow:global_step/sec: 576.251\n",
      "INFO:tensorflow:loss = 0.4421987, step = 3200 (0.170 sec)\n",
      "INFO:tensorflow:global_step/sec: 589.807\n",
      "INFO:tensorflow:loss = 0.41918397, step = 3300 (0.170 sec)\n",
      "INFO:tensorflow:global_step/sec: 582.949\n",
      "INFO:tensorflow:loss = 0.4229973, step = 3400 (0.174 sec)\n",
      "INFO:tensorflow:global_step/sec: 563.987\n",
      "INFO:tensorflow:loss = 0.40782762, step = 3500 (0.176 sec)\n",
      "INFO:tensorflow:global_step/sec: 604.018\n",
      "INFO:tensorflow:loss = 0.40219876, step = 3600 (0.166 sec)\n",
      "INFO:tensorflow:global_step/sec: 604.191\n",
      "INFO:tensorflow:loss = 0.39061195, step = 3700 (0.167 sec)\n",
      "INFO:tensorflow:global_step/sec: 600.403\n",
      "INFO:tensorflow:loss = 0.39493322, step = 3800 (0.167 sec)\n",
      "INFO:tensorflow:global_step/sec: 572.955\n",
      "INFO:tensorflow:loss = 0.38960534, step = 3900 (0.176 sec)\n",
      "INFO:tensorflow:global_step/sec: 600.404\n",
      "INFO:tensorflow:loss = 0.3828555, step = 4000 (0.168 sec)\n",
      "INFO:tensorflow:global_step/sec: 593.298\n",
      "INFO:tensorflow:loss = 0.37445864, step = 4100 (0.169 sec)\n",
      "INFO:tensorflow:global_step/sec: 541.984\n",
      "INFO:tensorflow:loss = 0.37749597, step = 4200 (0.184 sec)\n",
      "INFO:tensorflow:global_step/sec: 570.613\n",
      "INFO:tensorflow:loss = 0.3714384, step = 4300 (0.173 sec)\n",
      "INFO:tensorflow:global_step/sec: 587.012\n",
      "INFO:tensorflow:loss = 0.35767692, step = 4400 (0.169 sec)\n",
      "INFO:tensorflow:global_step/sec: 573.49\n",
      "INFO:tensorflow:loss = 0.36526626, step = 4500 (0.175 sec)\n",
      "INFO:tensorflow:global_step/sec: 588.148\n",
      "INFO:tensorflow:loss = 0.35702944, step = 4600 (0.169 sec)\n",
      "INFO:tensorflow:global_step/sec: 604.019\n",
      "INFO:tensorflow:loss = 0.35077935, step = 4700 (0.167 sec)\n",
      "INFO:tensorflow:global_step/sec: 572.941\n",
      "INFO:tensorflow:loss = 0.35143173, step = 4800 (0.176 sec)\n",
      "INFO:tensorflow:global_step/sec: 604.039\n",
      "INFO:tensorflow:loss = 0.3556752, step = 4900 (0.164 sec)\n",
      "INFO:tensorflow:Calling checkpoint listeners before saving checkpoint 5000...\n",
      "INFO:tensorflow:Saving checkpoints for 5000 into C:\\Users\\TONINE~1\\AppData\\Local\\Temp\\tmpk_h_knyh\\model.ckpt.\n",
      "INFO:tensorflow:Calling checkpoint listeners after saving checkpoint 5000...\n",
      "INFO:tensorflow:Loss for final step: 0.3446534.\n"
     ]
    },
    {
     "data": {
      "text/plain": [
       "<tensorflow_estimator.python.estimator.canned.dnn.DNNClassifierV2 at 0x1b0c4dbfe20>"
      ]
     },
     "execution_count": 10,
     "metadata": {},
     "output_type": "execute_result"
    }
   ],
   "source": [
    "classifier.train(\n",
    "    input_fn=lambda: input_fn(train, train_y, training=True),\n",
    "    steps=5000)\n",
    "# We include a lambda to avoid creating an inner function previously"
   ]
  },
  {
   "cell_type": "code",
   "execution_count": 11,
   "id": "0fd891b0",
   "metadata": {},
   "outputs": [
    {
     "name": "stdout",
     "output_type": "stream",
     "text": [
      "INFO:tensorflow:Calling model_fn.\n",
      "WARNING:tensorflow:Layer dnn is casting an input tensor from dtype float64 to the layer's dtype of float32, which is new behavior in TensorFlow 2.  The layer has dtype float32 because its dtype defaults to floatx.\n",
      "\n",
      "If you intended to run this layer in float32, you can safely ignore this warning. If in doubt, this warning is likely only an issue if you are porting a TensorFlow 1.X model to TensorFlow 2.\n",
      "\n",
      "To change all layers to have dtype float64 by default, call `tf.keras.backend.set_floatx('float64')`. To change just this layer, pass dtype='float64' to the layer constructor. If you are the author of this layer, you can disable autocasting by passing autocast=False to the base Layer constructor.\n",
      "\n",
      "INFO:tensorflow:Done calling model_fn.\n",
      "INFO:tensorflow:Starting evaluation at 2021-04-16T13:47:26Z\n",
      "INFO:tensorflow:Graph was finalized.\n",
      "INFO:tensorflow:Restoring parameters from C:\\Users\\TONINE~1\\AppData\\Local\\Temp\\tmpk_h_knyh\\model.ckpt-5000\n",
      "INFO:tensorflow:Running local_init_op.\n",
      "INFO:tensorflow:Done running local_init_op.\n",
      "INFO:tensorflow:Inference Time : 1.08063s\n",
      "INFO:tensorflow:Finished evaluation at 2021-04-16-13:47:27\n",
      "INFO:tensorflow:Saving dict for global step 5000: accuracy = 0.93333334, average_loss = 0.40785804, global_step = 5000, loss = 0.40785804\n",
      "INFO:tensorflow:Saving 'checkpoint_path' summary for global step 5000: C:\\Users\\TONINE~1\\AppData\\Local\\Temp\\tmpk_h_knyh\\model.ckpt-5000\n",
      "\n",
      "Test set accuracy: 0.933\n",
      "\n"
     ]
    }
   ],
   "source": [
    "eval_result = classifier.evaluate(\n",
    "    input_fn=lambda: input_fn(test, test_y, training=False))\n",
    "\n",
    "print('\\nTest set accuracy: {accuracy:0.3f}\\n'.format(**eval_result))"
   ]
  },
  {
   "cell_type": "code",
   "execution_count": 13,
   "id": "5e236fef",
   "metadata": {},
   "outputs": [
    {
     "name": "stdout",
     "output_type": "stream",
     "text": [
      "Please type numeric values as prompted.\n",
      "SepalLength: 4\n",
      "SepalLength: 2\n",
      "SepalLength: 1\n",
      "SepalLength: 2\n",
      "SepalLength: 1\n",
      "SepalLength: 2\n",
      "SepalLength: 1\n",
      "SepalLength: 2\n",
      "SepalLength: 1\n",
      "SepalLength: 2\n",
      "SepalLength: 1\n",
      "SepalLength: 2\n",
      "SepalLength: 1\n",
      "SepalLength: 2\n",
      "SepalLength: 1\n",
      "SepalLength: 2\n",
      "SepalLength: 1\n",
      "SepalLength: 2\n",
      "SepalLength: 1\n",
      "SepalLength: 2\n",
      "SepalLength: \n"
     ]
    },
    {
     "ename": "ValueError",
     "evalue": "could not convert string to float: ''",
     "output_type": "error",
     "traceback": [
      "\u001b[1;31m---------------------------------------------------------------------------\u001b[0m",
      "\u001b[1;31mValueError\u001b[0m                                Traceback (most recent call last)",
      "\u001b[1;32m<ipython-input-13-69de02fe42e2>\u001b[0m in \u001b[0;36m<module>\u001b[1;34m\u001b[0m\n\u001b[0;32m     13\u001b[0m     \u001b[1;32mif\u001b[0m \u001b[1;32mnot\u001b[0m \u001b[0mval\u001b[0m\u001b[1;33m.\u001b[0m\u001b[0misdigit\u001b[0m\u001b[1;33m(\u001b[0m\u001b[1;33m)\u001b[0m\u001b[1;33m:\u001b[0m \u001b[0mvalid\u001b[0m \u001b[1;33m=\u001b[0m \u001b[1;32mFalse\u001b[0m\u001b[1;33m\u001b[0m\u001b[1;33m\u001b[0m\u001b[0m\n\u001b[0;32m     14\u001b[0m \u001b[1;33m\u001b[0m\u001b[0m\n\u001b[1;32m---> 15\u001b[1;33m   \u001b[0mpredict\u001b[0m\u001b[1;33m[\u001b[0m\u001b[0mfeature\u001b[0m\u001b[1;33m]\u001b[0m \u001b[1;33m=\u001b[0m \u001b[1;33m[\u001b[0m\u001b[0mfloat\u001b[0m\u001b[1;33m(\u001b[0m\u001b[0mval\u001b[0m\u001b[1;33m)\u001b[0m\u001b[1;33m]\u001b[0m\u001b[1;33m\u001b[0m\u001b[1;33m\u001b[0m\u001b[0m\n\u001b[0m\u001b[0;32m     16\u001b[0m \u001b[1;33m\u001b[0m\u001b[0m\n\u001b[0;32m     17\u001b[0m \u001b[0mpredictions\u001b[0m \u001b[1;33m=\u001b[0m \u001b[0mclassifier\u001b[0m\u001b[1;33m.\u001b[0m\u001b[0mpredict\u001b[0m\u001b[1;33m(\u001b[0m\u001b[0minput_fn\u001b[0m\u001b[1;33m=\u001b[0m\u001b[1;32mlambda\u001b[0m\u001b[1;33m:\u001b[0m \u001b[0minput_fn\u001b[0m\u001b[1;33m(\u001b[0m\u001b[0mpredict\u001b[0m\u001b[1;33m)\u001b[0m\u001b[1;33m)\u001b[0m\u001b[1;33m\u001b[0m\u001b[1;33m\u001b[0m\u001b[0m\n",
      "\u001b[1;31mValueError\u001b[0m: could not convert string to float: ''"
     ]
    }
   ],
   "source": [
    "def input_fn(features, batch_size=256):\n",
    "    # Convert the inputs to a Dataset without labels.\n",
    "    return tf.data.Dataset.from_tensor_slices(dict(features)).batch(batch_size)\n",
    "\n",
    "features = ['SepalLength', 'SepalWidth', 'PetalLength', 'PetalWidth']\n",
    "predict = {}\n",
    "\n",
    "print(\"Please type numeric values as prompted.\")\n",
    "for feature in features:\n",
    "  valid = True\n",
    "  while valid: \n",
    "    val = input(feature + \": \")\n",
    "    if not val.isdigit(): valid = False\n",
    "\n",
    "  predict[feature] = [float(val)]\n",
    "\n",
    "predictions = classifier.predict(input_fn=lambda: input_fn(predict))\n",
    "for pred_dict in predictions:\n",
    "    class_id = pred_dict['class_ids'][0]\n",
    "    probability = pred_dict['probabilities'][class_id]\n",
    "\n",
    "    print('Prediction is \"{}\" ({:.1f}%)'.format(\n",
    "        SPECIES[class_id], 100 * probability))\n"
   ]
  },
  {
   "cell_type": "code",
   "execution_count": null,
   "id": "250a8bb1",
   "metadata": {},
   "outputs": [],
   "source": [
    "# Here is some example input and expected classes you can try above\n",
    "expected = ['Setosa', 'Versicolor', 'Virginica']\n",
    "predict_x = {\n",
    "    'SepalLength': [5.1, 5.9, 6.9],\n",
    "    'SepalWidth': [3.3, 3.0, 3.1],\n",
    "    'PetalLength': [1.7, 4.2, 5.4],\n",
    "    'PetalWidth': [0.5, 1.5, 2.1],\n",
    "}"
   ]
  },
  {
   "cell_type": "code",
   "execution_count": null,
   "id": "a2d3d1f4",
   "metadata": {},
   "outputs": [],
   "source": []
  }
 ],
 "metadata": {
  "kernelspec": {
   "display_name": "Python 3",
   "language": "python",
   "name": "python3"
  },
  "language_info": {
   "codemirror_mode": {
    "name": "ipython",
    "version": 3
   },
   "file_extension": ".py",
   "mimetype": "text/x-python",
   "name": "python",
   "nbconvert_exporter": "python",
   "pygments_lexer": "ipython3",
   "version": "3.8.8"
  }
 },
 "nbformat": 4,
 "nbformat_minor": 5
}
